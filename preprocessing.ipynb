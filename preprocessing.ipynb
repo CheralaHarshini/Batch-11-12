{
  "nbformat": 4,
  "nbformat_minor": 0,
  "metadata": {
    "colab": {
      "provenance": [],
      "authorship_tag": "ABX9TyPTWQAW8/XShCyOwV+iamzy",
      "include_colab_link": true
    },
    "kernelspec": {
      "name": "python3",
      "display_name": "Python 3"
    },
    "language_info": {
      "name": "python"
    }
  },
  "cells": [
    {
      "cell_type": "markdown",
      "metadata": {
        "id": "view-in-github",
        "colab_type": "text"
      },
      "source": [
        "<a href=\"https://colab.research.google.com/github/CheralaHarshini/Batch-11-12/blob/main/preprocessing.ipynb\" target=\"_parent\"><img src=\"https://colab.research.google.com/assets/colab-badge.svg\" alt=\"Open In Colab\"/></a>"
      ]
    },
    {
      "cell_type": "code",
      "execution_count": 5,
      "metadata": {
        "colab": {
          "base_uri": "https://localhost:8080/"
        },
        "id": "Y1uzWhPpDvce",
        "outputId": "9cb14adf-bfd6-4e9c-fd2b-c5f0c791e180"
      },
      "outputs": [
        {
          "output_type": "stream",
          "name": "stdout",
          "text": [
            "      Name   Age      City   Salary\n",
            "0    Alice  25.0  New York  50000.0\n",
            "1      Bob  48.0    London  60000.0\n",
            "2  Charlie   NaN      None      NaN\n",
            "3    david  40.0     Paris  80000.0\n",
            "4      Eve  25.0    Berlin  90000.0\n",
            "5    Alice  30.0  New York  50000.0\n",
            "6  charlie   NaN      None      NaN\n"
          ]
        }
      ],
      "source": [
        "import pandas as pd\n",
        "import numpy as np\n",
        "data = {\n",
        "    \"Name\" : [\"Alice\",\"Bob\",\"Charlie\",\"david\",\"Eve\",\"Alice\",\"charlie\"],\n",
        "    \"Age\" : [25,48,None,40,25,30,None],\n",
        "    \"City\" : [\"New York\",\"London\",None,\"Paris\",\"Berlin\",\"New York\",None],\n",
        "    \"Salary\" : [50000,60000,None,80000,90000,50000,None]\n",
        "}\n",
        "df = pd.DataFrame(data)\n",
        "print(df)"
      ]
    },
    {
      "cell_type": "code",
      "source": [
        "df['Age'] = df['Age'].fillna(df['Age'].mean())\n",
        "df['City'] = df['City'].fillna(\"Unknown\")\n",
        "df = df.dropna(subset = ['Salary'])"
      ],
      "metadata": {
        "id": "WAkwKQWOQs90"
      },
      "execution_count": 8,
      "outputs": []
    },
    {
      "cell_type": "code",
      "source": [
        "df = df.drop_duplicates()"
      ],
      "metadata": {
        "id": "_0aY-P3HSGga"
      },
      "execution_count": 10,
      "outputs": []
    },
    {
      "cell_type": "code",
      "source": [
        "df = df.rename(columns={\"Name\":\"Employee Name\",\"Age\":\"Employee Age\"})"
      ],
      "metadata": {
        "id": "e7W8DZhUSR8o"
      },
      "execution_count": 11,
      "outputs": []
    },
    {
      "cell_type": "code",
      "source": [
        "df['Employee Age'] = df['Employee Age'].astype(int)"
      ],
      "metadata": {
        "id": "2Hh-xlsXSlZV"
      },
      "execution_count": 12,
      "outputs": []
    },
    {
      "cell_type": "code",
      "source": [
        "df_filtered = df[df['Salary'] > 60000]"
      ],
      "metadata": {
        "id": "Wg9bPecbS49k"
      },
      "execution_count": 14,
      "outputs": []
    },
    {
      "cell_type": "code",
      "source": [
        "df['Bonus'] = df['Salary'] * 0.10"
      ],
      "metadata": {
        "id": "1oxkvSuLTGE0"
      },
      "execution_count": 15,
      "outputs": []
    },
    {
      "cell_type": "code",
      "source": [
        "df = df.sort_values(by = 'Salary', ascending = False)"
      ],
      "metadata": {
        "id": "9nBaW-6zTOc_"
      },
      "execution_count": 16,
      "outputs": []
    },
    {
      "cell_type": "code",
      "source": [
        "df_group = df.groupby('City')['Salary'].mean()\n",
        "print(df_group)"
      ],
      "metadata": {
        "colab": {
          "base_uri": "https://localhost:8080/"
        },
        "id": "nZ8dkf-4Tc5o",
        "outputId": "ad3c7990-93f8-4a51-a874-f0b5b169a122"
      },
      "execution_count": 18,
      "outputs": [
        {
          "output_type": "stream",
          "name": "stdout",
          "text": [
            "City\n",
            "Berlin      90000.0\n",
            "London      60000.0\n",
            "New York    50000.0\n",
            "Paris       80000.0\n",
            "Name: Salary, dtype: float64\n"
          ]
        }
      ]
    }
  ]
}